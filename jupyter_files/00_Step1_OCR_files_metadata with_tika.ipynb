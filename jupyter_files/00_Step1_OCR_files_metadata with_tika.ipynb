{
 "cells": [
  {
   "cell_type": "markdown",
   "id": "e909a37d-958a-4185-8d09-70c7065eed78",
   "metadata": {
    "tags": []
   },
   "source": [
    "# test tika to convert documents in directory: category.\n",
    "- directory name of **category** of files is set in global_variables.py"
   ]
  },
  {
   "cell_type": "markdown",
   "id": "feeee656-8829-4248-929b-f8053f199cbe",
   "metadata": {},
   "source": [
    "# This program intends:\n",
    "## Step 1\n",
    "- To get multiple files in different formats, read text inside, even if it is pictures like jpog, tiff or png.<br>\n",
    "- To clean all generic words that are not necessary to define metadatas<br>\n",
    "- To generate a file with all metadatas found<br>\n",
    "\n",
    " |name |description|\n",
    " |---|---|\n",
    " | **category__metadata.csv** | list of all metadata found on existing files in the directory, containing category and filenames, count and timestamp|\n",
    " \n",
    "\n"
   ]
  },
  {
   "cell_type": "markdown",
   "id": "eabf9124-ee14-4048-b66e-28b4cc2cb6a1",
   "metadata": {},
   "source": [
    "## Be Aware:\n",
    "in case of runing under linux ( ubuntu) and killing the process, wait that all tesseract process are finished before relaunching the python script.<br>\n",
    "The best would be to also kill the java process at the end, like it can take a lot of memory<br>"
   ]
  },
  {
   "cell_type": "markdown",
   "id": "48e68967-5ddf-4eb2-bac3-c9de0607702e",
   "metadata": {},
   "source": [
    "### Note: Hot to Convert pdf to tiff in ubuntu\n",
    "gs -o destination.tiff -r300 -sDEVICE=tiffg4 source.pdf\n",
    "gs -o eos7d-mk2-im-tiffg4-1.tiff -r200x200  -sDEVICE=tiffg4 -sPAPERSIZE=a4 -dFirstPage=2 -dLastPage=99 eos7d-mk2-im-fr.pdf"
   ]
  },
  {
   "cell_type": "markdown",
   "id": "f7976995-9ad9-41c1-b025-a86e22b717a0",
   "metadata": {},
   "source": [
    "----------\n",
    "# Import modules"
   ]
  },
  {
   "cell_type": "code",
   "execution_count": null,
   "id": "59aba8b7-7f60-41dc-bba6-246e207e2f8b",
   "metadata": {
    "tags": []
   },
   "outputs": [],
   "source": [
    "import os\n",
    "import sys\n",
    "from multiprocessing import Pool\n",
    "from tika import parser\n",
    "import datetime\n",
    "import pandas as pd\n",
    "from pandas import DataFrame\n",
    "import re\n",
    "import time\n",
    "import psutil\n",
    "import os  \n",
    "from subprocess import check_call\n",
    "import signal\n",
    "from sys import platform\n",
    "from collections import Counter\n",
    "import csv\n",
    "\n",
    "#print(platform)\n",
    "\n",
    "start_time = time.time()"
   ]
  },
  {
   "cell_type": "code",
   "execution_count": null,
   "id": "16ba0551-8283-4314-a4e5-3d12e7c0f943",
   "metadata": {
    "tags": []
   },
   "outputs": [],
   "source": [
    "import global_variables as g\n",
    "g.init()\n",
    "\n",
    "category=g.category"
   ]
  },
  {
   "cell_type": "markdown",
   "id": "a735a08f-a50f-4e40-9e7a-668c148b7895",
   "metadata": {},
   "source": [
    "# Init category and files"
   ]
  },
  {
   "cell_type": "code",
   "execution_count": null,
   "id": "7bf7178f-4875-4d8e-bd34-7a62c2c3d3a0",
   "metadata": {},
   "outputs": [],
   "source": [
    "now = datetime.datetime.now()\n",
    " \n",
    "if g.DEBUG_OL >= 2:\n",
    "    print(\"now =\", now)\n",
    "\n",
    "# dd/mm/YY H:M:S\n",
    "dt_string = now.strftime(\"%d/%m/%Y %H:%M:%S\")\n",
    "#print(\"date and time =\", dt_string)\n",
    "\n",
    "#category=\"doc-engineering\"\n",
    "#category=\"doc-consoles\"\n",
    "#category=\"doc-electro\"\n",
    "#category=\"doc-photo\"\n",
    "#category=\"doc-airbus\"\n",
    "#category=\"doc-tests\"\n",
    "dirlist = os.listdir('../'+category)\n",
    "dirlist.sort()\n",
    "#print(dirlist)\n",
    "#for i in range(len(dirlist)):\n",
    "#    dirlist[i]=''.join(dirlist[i].split())\n",
    "    \n",
    "if g.DEBUG_OL >= 1:\n",
    "    print(len(dirlist),' files in directory\\n')\n",
    "    \n",
    "#print(dirlist)\n",
    "#ii=0\n"
   ]
  },
  {
   "cell_type": "markdown",
   "id": "4be9af3e-7c97-4b4e-ac46-15d2a8866b4b",
   "metadata": {},
   "source": [
    "------\n",
    "# Functions"
   ]
  },
  {
   "cell_type": "markdown",
   "id": "06f3d607-3239-437c-bc5d-6cbbfd175ece",
   "metadata": {},
   "source": [
    "## Format lists as columns for display in pysimplegui table"
   ]
  },
  {
   "cell_type": "code",
   "execution_count": null,
   "id": "7a6dca4e-8624-4f52-8aa4-cd236716090d",
   "metadata": {},
   "outputs": [],
   "source": [
    "def formatcol(liste,displayedCol=4):\n",
    "    liste2Print = []\n",
    "    cc=[]\n",
    "    \n",
    "    displayedColLen = len(liste)//4*4\n",
    "    displayedColModulo = len(liste)%displayedCol\n",
    "    if g.DEBUG_OL >= 3:\n",
    "        print('displayedCol:',displayedCol,'\\tdisplayedColLen:',displayedColLen,'\\tdisplayedColModulo:',displayedColModulo)\n",
    "        print(len(liste))\n",
    "    if not displayedColLen == 0:\n",
    "        for k in range(0,displayedColLen, 4):\n",
    "            if g.DEBUG_OL >= 3:\n",
    "                print(liste[k], '\\t' ,liste[k+1], '\\t' ,liste[k+2],'\\t',liste[k+3])\n",
    "            cc = [dirlist[k],liste[k+1],liste[k+2],liste[k+3]]\n",
    "            liste2Print.append(cc)\n",
    "        \n",
    "    for j in range(displayedColModulo+1):\n",
    "        cc=[]\n",
    "        if g.DEBUG_OL >= 3:\n",
    "            print(j)\n",
    "        if j == 1:\n",
    "            if g.DEBUG_OL >= 3:\n",
    "                print(liste[displayedColLen])\n",
    "            aa = liste[displayedColLen]\n",
    "            cc=[aa]\n",
    "    \n",
    "        elif j == 2:\n",
    "            if g.DEBUG_OL >= 3:\n",
    "                print(liste[displayedColLen+1])\n",
    "            bb= liste[displayedColLen+1]\n",
    "            cc=[aa,bb]\n",
    "    \n",
    "        elif j == 3:\n",
    "            if g.DEBUG_OL >= 3:\n",
    "                print(liste[displayedColLen+2])\n",
    "            dd= liste[displayedColLen+2]\n",
    "            cc=[aa,bb,dd]\n",
    "    if not cc:\n",
    "        if g.DEBUG_OL >= 3:\n",
    "            print('not cc')\n",
    "    else:\n",
    "        liste2Print.append(cc)\n",
    "    \n",
    "    if g.DEBUG_OL >= 3:\n",
    "        print(len(liste2Print),liste2Print)\n",
    "    return liste2Print"
   ]
  },
  {
   "cell_type": "markdown",
   "id": "4ceb101e-5924-4185-a6a3-b7586d23a35d",
   "metadata": {},
   "source": [
    "### Count elements in list of list"
   ]
  },
  {
   "cell_type": "code",
   "execution_count": null,
   "id": "10ac4904-5c60-4e3c-91e9-1f6a8ee59ff4",
   "metadata": {},
   "outputs": [],
   "source": [
    "def get_all_elements_in_list_of_lists(list):\n",
    "    counter = 0\n",
    "    for element in list:\n",
    "        counter += len(element)\n",
    "    return counter"
   ]
  },
  {
   "cell_type": "markdown",
   "id": "8e902a89-bfb6-473f-a753-cd22056aade7",
   "metadata": {},
   "source": [
    "## Make difference between list of files (dirlist) and files already treated in the result"
   ]
  },
  {
   "cell_type": "code",
   "execution_count": null,
   "id": "b4b02d96-5b44-4d08-90b6-570621868657",
   "metadata": {},
   "outputs": [],
   "source": [
    "def diff(list1, list2):\n",
    "    return list(set(list1).symmetric_difference(set(list2))) # set retire les doublons"
   ]
  },
  {
   "cell_type": "markdown",
   "id": "f2e33664-b75f-42ab-81c3-edef64e0436d",
   "metadata": {},
   "source": [
    "## Remove non necessary words"
   ]
  },
  {
   "cell_type": "code",
   "execution_count": null,
   "id": "247674fc-bcd7-43d9-829e-50148ad913e1",
   "metadata": {
    "tags": []
   },
   "outputs": [],
   "source": [
    "def loop_check_stop_words(liste,word):\n",
    "    a=1\n",
    "    while a == 1:\n",
    "        try:\n",
    "            aaaa=liste.index(word)\n",
    "            liste.pop(aaaa)\n",
    "            if g.DEBUG_OL >= 3:\n",
    "                print(liste)\n",
    "        except:\n",
    "            a = 0\n",
    "    return(liste)"
   ]
  },
  {
   "cell_type": "markdown",
   "id": "48b55797-af39-4f02-a525-6fcb1b92f101",
   "metadata": {},
   "source": [
    "## Kill  java process used by tika parser to free up memory"
   ]
  },
  {
   "cell_type": "code",
   "execution_count": null,
   "id": "74154d66-0b8c-441d-a561-596014748955",
   "metadata": {
    "tags": []
   },
   "outputs": [],
   "source": [
    "def kill_linux_java_process():\n",
    "    import psutil\n",
    "    import os\n",
    "    import signal\n",
    "\n",
    "    PROCNAME = \"java\"\n",
    "    aa=0\n",
    "    bb=0\n",
    "    for proc in psutil.process_iter():\n",
    "        # check whether the process name matches\n",
    "        if proc.name() == PROCNAME:\n",
    "            aa=proc.pid\n",
    "            if int(aa) > int(bb):\n",
    "                bb=aa\n",
    "    if g.DEBUG_OL >= 3:\n",
    "        print(bb)\n",
    "    os.kill(bb,signal.SIGTERM)\n",
    "#    time.sleep(5)"
   ]
  },
  {
   "cell_type": "markdown",
   "id": "c456005f-d649-4e17-9c7f-4b977b115ca4",
   "metadata": {},
   "source": [
    "## Convert time in hour, minute, second"
   ]
  },
  {
   "cell_type": "code",
   "execution_count": null,
   "id": "209714e4-72ed-4b1e-ae5d-6370e08795d9",
   "metadata": {
    "tags": []
   },
   "outputs": [],
   "source": [
    "def convert_to_preferred_format(sec):\n",
    "    sec = sec % (24 * 3600)\n",
    "    hour = sec // 3600\n",
    "    sec %= 3600\n",
    "    min = sec // 60\n",
    "    sec %= 60\n",
    "    if g.DEBUG_OL >= 2:\n",
    "        print(\"seconds value in hours:\",hour)\n",
    "        print(\"seconds value in minutes:\",min)\n",
    "    return (\"%02d:%02d:%02d\") % (hour, min, sec)"
   ]
  },
  {
   "cell_type": "markdown",
   "id": "5edc1537-a9e9-4fdd-aebc-d57910cfc4cb",
   "metadata": {},
   "source": [
    "## Main function to treat tika ocr in files"
   ]
  },
  {
   "cell_type": "code",
   "execution_count": null,
   "id": "95587351-25f9-4d63-b3e3-40da8d2bd9d2",
   "metadata": {
    "tags": []
   },
   "outputs": [],
   "source": [
    "def traiteocr(dirlist):\n",
    "   \n",
    "    liste =[]\n",
    "    str_match=[]\n",
    "#    print(\"-----------------------\\n\",dirlist)\n",
    "    abspath = '../'+category\n",
    "#    print(abspath)\n",
    "    full_dir=os.path.abspath(abspath)\n",
    "#    print(full_dir)\n",
    "    aa=full_dir+'/'+dirlist\n",
    "    inode=os.stat(aa).st_ino\n",
    "#    print(full_dir+'/'+i,\" en cours...\")\n",
    "\n",
    "    collectedtime = datetime.datetime.now()\n",
    "    if g.DEBUG_OL >= 2:\n",
    "        print(collectedtime)\n",
    "    \n",
    "    parsed_file = parser.from_file(aa,requestOptions=({'timeout': 1000}))\n",
    "    time.sleep(1)\n",
    "    my_metadata=parsed_file['metadata']\n",
    "    my_content = parsed_file['content']\n",
    "    if g.DEBUG_OL >= 2:\n",
    "#        print('my_metadata:',my_metadata)\n",
    "        print('my_content:',my_content)\n",
    "       \n",
    "    result = re.sub('[^A-Za-z0-9°éèàçùïœæ]+', ' ', my_content)\n",
    "    result = result.replace('\\n', '').lower()    \n",
    "\n",
    "\n",
    "    if g.DEBUG_OL >= 2:\n",
    "        print('result:',result)\n",
    "    liste = result.split()\n",
    "    \n",
    "    if g.DEBUG_OL >= 2:\n",
    "        print('\\n----------------------------------\\n----->liste brute:',liste)\n",
    "\n",
    "    for h in stop_words:\n",
    "        try:\n",
    "            liste=loop_check_stop_words(liste,h)\n",
    "        except:\n",
    "            pass\n",
    "\n",
    "    if g.DEBUG_OL >= 2:\n",
    "        print('\\n----------------------------------\\n----->liste_stop_words:',liste)\n",
    " \n",
    "    counts = Counter(liste)\n",
    "    if g.DEBUG_OL >= 2:\n",
    "        print('\\n----------------------------------\\n----->counts:',counts)\n",
    "    with open(file_lvl1,'a',encoding='utf-8') as csvfile:\n",
    "        writer = csv.DictWriter(csvfile,fieldnames = colonnes,lineterminator='\\n')\n",
    "        for cle, valeur in counts.items():\n",
    "            if g.DEBUG_OL >= 2:\n",
    "                print(dirlist,cle, valeur)\n",
    "            dico['category'] = category\n",
    "            dico['file'] = dirlist\n",
    "            dico['metadata']=str(cle)\n",
    "            dico['count']=int(valeur)\n",
    "            dico['timestamp'] = collectedtime\n",
    "            writer.writerow(dico)\n",
    "        if g.DEBUG_OL >= 1:\n",
    "            print(dirlist,' Done...')\n"
   ]
  },
  {
   "cell_type": "markdown",
   "id": "2cd99b4a-3bc6-47ac-a006-1a53fb36dc54",
   "metadata": {},
   "source": [
    "------\n",
    "# Main program\n",
    "## Initialization"
   ]
  },
  {
   "cell_type": "code",
   "execution_count": null,
   "id": "b1d0ab4d-fc5d-497d-8e7e-8192d727b2c0",
   "metadata": {},
   "outputs": [],
   "source": [
    "##################\n",
    "listDone = []                                                      # variable to retrieve all files already trated in metadata\n",
    "output_directory=category+'_results'                               # directory of metadata file creation\n",
    "file_lvl1=output_directory+'/'+category+'__metadata.csv'           # file name of metadata file\n",
    "colonnes = ['category','file','metadata','count','timestamp']      # columns to be created in metadata file\n",
    "\n",
    "dico = {}                                                          # temporary dictionary to create and write each line of metadata file\n",
    "dico = {i : '' for i in colonnes}                                  # dictionnary initialization\n",
    "##################"
   ]
  },
  {
   "cell_type": "markdown",
   "id": "d740a9da-a957-4797-9711-0ffed2972ef7",
   "metadata": {},
   "source": [
    "## Prepare list of remaining files"
   ]
  },
  {
   "cell_type": "code",
   "execution_count": null,
   "id": "10c9672e-5de1-48cd-9dd7-7e936121a7e2",
   "metadata": {
    "scrolled": true
   },
   "outputs": [],
   "source": [
    "listDone = []\n",
    "reader = ''\n",
    "if g.DEBUG_OL >= 2:\n",
    "    print('output_directory',output_directory,'\\tfile_lvl1:',file_lvl1)\n",
    "if not os.path.isdir(output_directory):\n",
    "    if g.DEBUG_OL >= 2:\n",
    "        print(\"directory does not exists. Creation launched\")\n",
    "    os.mkdir(output_directory)\n",
    "\n",
    "if os.path.isfile(file_lvl1):\n",
    "    fileExists=True\n",
    "    reader = csv.reader(open(file_lvl1, encoding='UTF-8'))\n",
    "    for row in reader:\n",
    "        if row[1] not in listDone and  row[1] != 'file':\n",
    "            listDone.append(row[1])\n",
    "    listDone.sort()\n",
    "    if g.DEBUG_OL >= 2:\n",
    "        print('\\nlen(listDone):',len(listDone),'\\tlistDone',listDone)\n",
    "\n",
    "else:\n",
    "    fileExists=False\n",
    "\n",
    "if g.DEBUG_OL >= 2:\n",
    "    print('\\nfileExists:',fileExists)\n",
    "    "
   ]
  },
  {
   "cell_type": "markdown",
   "id": "96ae5772-71cc-4981-be2f-2527924ba7f4",
   "metadata": {},
   "source": [
    "## Create displayable list of all files in pysimplegui"
   ]
  },
  {
   "cell_type": "code",
   "execution_count": null,
   "id": "c267d3e0-9644-4156-bede-4f7c1ae0597e",
   "metadata": {},
   "outputs": [],
   "source": [
    "fullListe2Print = formatcol(dirlist)\n",
    "fullList=get_all_elements_in_list_of_lists(fullListe2Print)\n",
    "if g.DEBUG_OL >= 2:\n",
    "    print(fullList, fullListe2Print)"
   ]
  },
  {
   "cell_type": "markdown",
   "id": "fad64f7f-301f-42ab-9748-0e0f7b3b54ce",
   "metadata": {},
   "source": [
    "## Create displayable list of remaining files in pysimplegui"
   ]
  },
  {
   "cell_type": "code",
   "execution_count": null,
   "id": "f12eef40-52fc-4609-b4b0-74d25f70fddf",
   "metadata": {},
   "outputs": [],
   "source": [
    "if fileExists == True:\n",
    "\n",
    "    remainList=diff(dirlist,listDone)\n",
    "    remainList.sort()\n",
    "    if g.DEBUG_OL >= 2:\n",
    "        print('\\nremainList:',remainList)\n",
    "    remainListe2Print = formatcol(remainList)\n",
    "\n",
    "    deltaList=get_all_elements_in_list_of_lists(remainListe2Print)\n",
    "    \n",
    "    if g.DEBUG_OL >= 2:\n",
    "        print('\\ndeltalist',deltaList,'remainList2Print',remainListe2Print )\n",
    "\n",
    "    if deltaList >0:\n",
    "        newFiles = True\n",
    "    else:\n",
    "        newFiles =False\n",
    "\n",
    "if g.DEBUG_OL >= 2:\n",
    "    print(\"newFiles:\",newFiles,'\\tfileExists',fileExists)"
   ]
  },
  {
   "cell_type": "markdown",
   "id": "4f7f535a-b500-4f3f-98f8-e4c68d44d281",
   "metadata": {},
   "source": [
    "## Display full files list and remaining files list and request action"
   ]
  },
  {
   "cell_type": "code",
   "execution_count": null,
   "id": "58ec9e81-7e5c-4fde-8809-470e2c8ef21b",
   "metadata": {},
   "outputs": [],
   "source": [
    "if fileExists == True:\n",
    "    import PySimpleGUI as sg\n",
    "    title=\"Analyze of files to treat\"\n",
    "    \n",
    "    layout = [[sg.T(len(dirlist),font=('Arial', 10, 'bold'), text_color='yellow'),\n",
    "               sg.T('files found in the directory',font=('Arial', 10)),\n",
    "               sg.T(output_directory,font=('Arial', 10, 'bold'), text_color='yellow'),\n",
    "               sg.T(' ',size=(40, 1)),sg.T('Parallelization:',font=('Arial', 10)),\n",
    "               sg.T(g.parallel,font=('Arial', 10, 'bold'), text_color='yellow')],\n",
    "               [sg.Table(fullListe2Print,auto_size_columns=True,display_row_numbers=False,header_text_color='white on blue',selected_row_colors='white on blue',justification='left',expand_x=True,expand_y=True,)]]\n",
    "   \n",
    "    if newFiles == True:\n",
    "        laycase = [[sg.T(len(remainList),font=('Arial', 10, 'bold'), text_color='lightgreen'),\n",
    "                    sg.T('remaining files to assess',font=('Arial', 10)) ],\n",
    "                   [sg.Table(remainListe2Print,auto_size_columns=True,display_row_numbers=False,header_text_color='white on blue',selected_row_colors='white on blue',justification='left',expand_x=True,expand_y=True,)],\n",
    "                   [sg.T('Do you want to remove the existing result file:',font=('Arial', 10)),\n",
    "                   sg.T(file_lvl1,font=('Arial', 10, 'bold'), text_color='yellow')],\n",
    "                  [sg.T('or do you prefer to add remaining/added files to the existing metadata ?',font=('Arial', 10))],\n",
    "                   [sg.B('Remove',button_color=('white', 'red')), sg.B('Add',button_color=('black', 'green')), sg.T(' ',size=(40, 1)),sg.Cancel()]]\n",
    "        \n",
    "    elif newFiles == False:\n",
    "        laycase = [[sg.T('There are no new files to asses. Do you want to recreate the existing result file:',font=('Arial', 10)),\n",
    "                   sg.T(file_lvl1,font=('Arial', 10, 'bold'), text_color='yellow')],\n",
    "                  [sg.B('Restart and Clean metadata file',button_color=('white', 'red')), sg.T(' ',size=(40, 1)),sg.Cancel()]]\n",
    "    \n",
    "    layout.append(laycase)\n",
    "    \n",
    "    window=sg.Window(title, layout, resizable=True)\n",
    "    while True:\n",
    "        events, values = window.read()\n",
    "        if events == 'Cancel' or events == sg.WIN_CLOSED:\n",
    "            action = 0\n",
    "            window.close()\n",
    "            exit()\n",
    "            sys.exit(\"Cancelled\")\n",
    "            break\n",
    "        elif events == 'Remove' or events == 'Restart and Clean metadata file':\n",
    "            if g.DEBUG_OL >= 2:\n",
    "                print(events,values)\n",
    "            action = 1\n",
    "            os.remove(file_lvl1)\n",
    "            tableau = DataFrame(columns=colonnes)\n",
    "            tableau.to_csv(file_lvl1,index=False)\n",
    "    \n",
    "            break\n",
    "        elif events == 'Add':\n",
    "            if g.DEBUG_OL >= 2:\n",
    "                print(events,values)\n",
    "            dirlist = remainList\n",
    "            action = 2\n",
    "            break\n",
    "            \n",
    "    if g.DEBUG_OL >= 2:\n",
    "        print(action)\n",
    "    window.close()\n",
    "if g.DEBUG_OL >= 2:\n",
    "    print('end process: Display full files list and remaining files list and request action (pysimplegui)')"
   ]
  },
  {
   "cell_type": "markdown",
   "id": "fbe46ddd-1ac0-43c7-8b8d-745033143ba2",
   "metadata": {},
   "source": [
    "## prepare list of unecessary words from file"
   ]
  },
  {
   "cell_type": "code",
   "execution_count": null,
   "id": "cd6778fa-5147-448a-a101-80b0df875271",
   "metadata": {
    "tags": []
   },
   "outputs": [],
   "source": [
    "#STOP_WORDS_FILE=\"stop_words_french.txt\"\n",
    "#STOP_WORDS_FILE=\"stop_words_english.txt\"\n",
    "STOP_WORDS_FILE=\"stop_fr_en_ge_sp_words.txt\"\n",
    "\n",
    "with open(STOP_WORDS_FILE, 'r', encoding='UTF-8') as file:\n",
    "    stop_words = file.read().splitlines()\n",
    "\n",
    "if g.DEBUG_OL >= 3:\n",
    "    print(stop_words)\n"
   ]
  },
  {
   "cell_type": "markdown",
   "id": "e4586a99-1bd7-425c-89d2-0a25e2b05ff3",
   "metadata": {},
   "source": [
    "------\n",
    "# Init process"
   ]
  },
  {
   "cell_type": "code",
   "execution_count": null,
   "id": "fc78df0a-72ac-4549-84d9-8ca798c4fb50",
   "metadata": {},
   "outputs": [],
   "source": [
    "if __name__ == \"__main__\":\n",
    "    start_func_time = time.time()\n",
    "    print(\"Launching...\\n Be patient...\")\n",
    "    print('Collection of metadata in ',len(dirlist),' file(s)')\n",
    "    with Pool (g.parallel) as p:\n",
    "        p.map(traiteocr,dirlist)\n",
    "    curr_time = time.time() - start_func_time\n",
    "    returned_time=convert_to_preferred_format(curr_time)\n",
    "    print('Process finished in,',returned_time[0:2],'heure(s)',returned_time[3:5],'minute(s)',returned_time[6:8],'seconds' )"
   ]
  },
  {
   "cell_type": "code",
   "execution_count": null,
   "id": "e084e3fe-e722-4688-b1ee-ad86c75cc09b",
   "metadata": {},
   "outputs": [],
   "source": [
    "time.sleep(3)\n",
    "if platform == \"linux\" or platform == \"linux2\":\n",
    "    check_call(['sync'])\n",
    "    kill_linux_java_process()"
   ]
  },
  {
   "cell_type": "code",
   "execution_count": null,
   "id": "d57fff32-4d7a-4b48-9842-508fb4e39d83",
   "metadata": {},
   "outputs": [],
   "source": []
  }
 ],
 "metadata": {
  "kernelspec": {
   "display_name": "Python 3 (ipykernel)",
   "language": "python",
   "name": "python3"
  },
  "language_info": {
   "codemirror_mode": {
    "name": "ipython",
    "version": 3
   },
   "file_extension": ".py",
   "mimetype": "text/x-python",
   "name": "python",
   "nbconvert_exporter": "python",
   "pygments_lexer": "ipython3",
   "version": "3.11.2"
  }
 },
 "nbformat": 4,
 "nbformat_minor": 5
}
