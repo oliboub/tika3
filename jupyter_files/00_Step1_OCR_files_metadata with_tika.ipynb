{
 "cells": [
  {
   "cell_type": "markdown",
   "id": "4562c432-6ee5-4425-9267-b480439de483",
   "metadata": {
    "tags": []
   },
   "source": [
    "# test tika to convert documents in directory: category.\n",
    "- directory name of **category** of files is set in global_variables.py"
   ]
  },
  {
   "cell_type": "markdown",
   "id": "9f2caa32-d441-488b-a0d2-1afcc661039d",
   "metadata": {},
   "source": [
    "# This program intends:\n",
    "## Step 1\n",
    "- To get multiple files in different formats, read text inside, even if it is pictures like jpog, tiff or png.<br>\n",
    "- To clean all generic words that are not necessary to define metadatas<br>\n",
    "- To generate a file with all metadatas found<br>\n",
    "\n",
    " |name |description|\n",
    " |---|---|\n",
    " | **category__metadata.csv** | list of all metadata found on existing files in the directory, containing category and filenames, count and timestamp|\n",
    " \n",
    "\n"
   ]
  },
  {
   "cell_type": "markdown",
   "id": "7703df02-df0d-4b72-83d7-8d3f66cb7143",
   "metadata": {},
   "source": [
    "## Be Aware:\n",
    "in case of runing under linux ( ubuntu) and killing the process, wait that all tesseract process are finished before relaunching the python script.<br>\n",
    "The best would be to also kill the java process at the end, like it can take a lot of memory<br>"
   ]
  },
  {
   "cell_type": "markdown",
   "id": "a5b0c819-f2fb-474c-9e94-f3416e339910",
   "metadata": {},
   "source": [
    "### Note: Hot to Convert pdf to tiff in ubuntu\n",
    "gs -o destination.tiff -r300 -sDEVICE=tiffg4 source.pdf\n",
    "gs -o eos7d-mk2-im-tiffg4-1.tiff -r200x200  -sDEVICE=tiffg4 -sPAPERSIZE=a4 -dFirstPage=2 -dLastPage=99 eos7d-mk2-im-fr.pdf"
   ]
  },
  {
   "cell_type": "code",
   "execution_count": null,
   "id": "fe66766c-4329-4c9e-b9e3-a5409f54cb85",
   "metadata": {
    "tags": []
   },
   "outputs": [],
   "source": [
    "import os\n",
    "from multiprocessing import Pool\n",
    "from tika import parser\n",
    "import datetime\n",
    "import pandas as pd\n",
    "from pandas import DataFrame\n",
    "import re\n",
    "import time\n",
    "import psutil\n",
    "import os  \n",
    "from subprocess import check_call\n",
    "import signal\n",
    "from sys import platform\n",
    "from collections import Counter\n",
    "import csv\n",
    "\n",
    "#print(platform)\n",
    "\n",
    "start_time = time.time()"
   ]
  },
  {
   "cell_type": "code",
   "execution_count": null,
   "id": "da6553a6-2412-4aea-a00a-660563ba4071",
   "metadata": {
    "tags": []
   },
   "outputs": [],
   "source": [
    "import global_variables as g\n",
    "g.init()\n",
    "\n",
    "category=g.category"
   ]
  },
  {
   "cell_type": "code",
   "execution_count": null,
   "id": "5f163ed5-56ef-41d2-93b7-954b6a4ed883",
   "metadata": {},
   "outputs": [],
   "source": [
    "now = datetime.datetime.now()\n",
    " \n",
    "if g.DEBUG_OL >= 2:\n",
    "    print(\"now =\", now)\n",
    "\n",
    "# dd/mm/YY H:M:S\n",
    "dt_string = now.strftime(\"%d/%m/%Y %H:%M:%S\")\n",
    "#print(\"date and time =\", dt_string)\n",
    "\n",
    "#category=\"doc-engineering\"\n",
    "#category=\"doc-consoles\"\n",
    "#category=\"doc-electro\"\n",
    "#category=\"doc-photo\"\n",
    "#category=\"doc-airbus\"\n",
    "#category=\"doc-tests\"\n",
    "dirlist = os.listdir('../'+category)\n",
    "\n",
    "#print(dirlist)\n",
    "#for i in range(len(dirlist)):\n",
    "#    dirlist[i]=''.join(dirlist[i].split())\n",
    "    \n",
    "if g.DEBUG_OL >= 1:\n",
    "    print(len(dirlist),' files in directory\\n', dirlist)"
   ]
  },
  {
   "cell_type": "markdown",
   "id": "58a6724f-d321-4569-a2ba-28de30ecbdb0",
   "metadata": {},
   "source": [
    "------\n",
    "# Functions"
   ]
  },
  {
   "cell_type": "markdown",
   "id": "c4c599d6-60da-4f67-a10a-bf0ff822a364",
   "metadata": {},
   "source": [
    "## Make difference between list of files (dirlist) and files already treated in the result"
   ]
  },
  {
   "cell_type": "code",
   "execution_count": null,
   "id": "343a6762-afd7-437a-98bb-21c0b36b85ec",
   "metadata": {},
   "outputs": [],
   "source": [
    "def diff(list1, list2):\n",
    "    return list(set(list1).symmetric_difference(set(list2))) # set retire les doublons"
   ]
  },
  {
   "cell_type": "markdown",
   "id": "9e03392c-6221-44cf-987d-ba3fad722aa2",
   "metadata": {},
   "source": [
    "## Remove non necessary words"
   ]
  },
  {
   "cell_type": "code",
   "execution_count": null,
   "id": "bb19a9dd-7e53-4815-84f8-3cb1870be8f3",
   "metadata": {
    "tags": []
   },
   "outputs": [],
   "source": [
    "def loop_check_stop_words(liste,word):\n",
    "    a=1\n",
    "    while a == 1:\n",
    "        try:\n",
    "            aaaa=liste.index(word)\n",
    "            liste.pop(aaaa)\n",
    "            if g.DEBUG_OL >= 3:\n",
    "                print(liste)\n",
    "        except:\n",
    "            a = 0\n",
    "    return(liste)"
   ]
  },
  {
   "cell_type": "markdown",
   "id": "3ea01897-8ea4-42c8-9e2b-16904830011c",
   "metadata": {},
   "source": [
    "## Kill  java process used by tika parser to free up memory"
   ]
  },
  {
   "cell_type": "code",
   "execution_count": null,
   "id": "b03d103c-4be0-491f-a5af-a509ae7ed033",
   "metadata": {
    "tags": []
   },
   "outputs": [],
   "source": [
    "def kill_linux_java_process():\n",
    "    import psutil\n",
    "    import os\n",
    "    import signal\n",
    "\n",
    "    PROCNAME = \"java\"\n",
    "    aa=0\n",
    "    bb=0\n",
    "    for proc in psutil.process_iter():\n",
    "        # check whether the process name matches\n",
    "        if proc.name() == PROCNAME:\n",
    "            aa=proc.pid\n",
    "            if int(aa) > int(bb):\n",
    "                bb=aa\n",
    "    if g.DEBUG_OL >= 3:\n",
    "        print(bb)\n",
    "    os.kill(bb,signal.SIGTERM)\n",
    "#    time.sleep(5)"
   ]
  },
  {
   "cell_type": "markdown",
   "id": "f637ef13-c4ba-428f-8197-626ec1bd97cb",
   "metadata": {},
   "source": [
    "## Convert time in hour, minute, second"
   ]
  },
  {
   "cell_type": "code",
   "execution_count": null,
   "id": "5016094f-8730-401a-8730-74efec247a35",
   "metadata": {
    "tags": []
   },
   "outputs": [],
   "source": [
    "def convert_to_preferred_format(sec):\n",
    "    sec = sec % (24 * 3600)\n",
    "    hour = sec // 3600\n",
    "    sec %= 3600\n",
    "    min = sec // 60\n",
    "    sec %= 60\n",
    "    if g.DEBUG_OL >= 2:\n",
    "        print(\"seconds value in hours:\",hour)\n",
    "        print(\"seconds value in minutes:\",min)\n",
    "    return (\"%02d:%02d:%02d\") % (hour, min, sec)"
   ]
  },
  {
   "cell_type": "markdown",
   "id": "8acfdd64-a05c-4602-a240-7e9195a9b346",
   "metadata": {},
   "source": [
    "------\n",
    "# prepare list of unecessary words from file"
   ]
  },
  {
   "cell_type": "code",
   "execution_count": null,
   "id": "2892dd26-519c-4b53-b165-74b4b4c07757",
   "metadata": {
    "tags": []
   },
   "outputs": [],
   "source": [
    "#STOP_WORDS_FILE=\"stop_words_french.txt\"\n",
    "#STOP_WORDS_FILE=\"stop_words_english.txt\"\n",
    "STOP_WORDS_FILE=\"stop_fr_en_words.txt\"\n",
    "\n",
    "with open(STOP_WORDS_FILE, 'r', encoding='UTF-8') as file:\n",
    "    stop_words = file.read().splitlines()\n",
    "\n",
    "if g.DEBUG_OL >= 3:\n",
    "    print(stop_words)\n"
   ]
  },
  {
   "cell_type": "markdown",
   "id": "18322f34-3c00-4914-b726-fa8c5146e95a",
   "metadata": {},
   "source": [
    "# Request action on result file (remove existing or append)"
   ]
  },
  {
   "cell_type": "code",
   "execution_count": null,
   "id": "968cf93a-911e-4d40-bd74-aa6f575207ec",
   "metadata": {},
   "outputs": [],
   "source": [
    "output_directory=category+'_results'\n",
    "if not os.path.isdir(output_directory):\n",
    "    if g.DEBUG_OL >= 2:\n",
    "        print(\"directory does not exists. Creation launched\")\n",
    "    os.mkdir(output_directory)\n",
    "    \n",
    "file_lvl1=output_directory+'/'+category+'__metadata.csv'\n",
    "action = 1\n",
    "if g.DEBUG_OL >= 2:\n",
    "    print(file_lvl1)        \n",
    "if os.path.isfile(file_lvl1):\n",
    "    import PySimpleGUI as sg\n",
    "    title='Selected category:'+category\n",
    "    layout = [[sg.T('Do you want to remove the existing result file:',font=('Arial', 10)),\n",
    "               sg.T(file_lvl1,font=('Arial', 10, 'bold'))],\n",
    "               [sg.T('or do you prefer to add remaining od added files to the existing metadata ?',font=('Arial', 10))],\n",
    "               [sg.B('Remove',button_color=('white', 'red')), sg.B('Add',button_color=('black', 'green')), sg.T(' ',size=(40, 1)),sg.Cancel()]]\n",
    "    window=sg.Window(title, layout)\n",
    "    while True:\n",
    "        events, values = window.read()\n",
    "        if events == 'Cancel' or events == sg.WIN_CLOSED:\n",
    "            action = 0\n",
    "            exit()\n",
    "            break\n",
    "        elif events == 'Remove':\n",
    "            if g.DEBUG_OL >= 2:\n",
    "                print(events,values)\n",
    "            action = 1\n",
    "            os.remove(file_lvl1)\n",
    "            break\n",
    "        elif events == 'Add':\n",
    "            if g.DEBUG_OL >= 2:\n",
    "                print(events,values)\n",
    "            action = 2\n",
    "            break\n",
    "    if g.DEBUG_OL >= 2:\n",
    "        print(action)\n",
    "    window.close()\n",
    "\n",
    "## Action sur le fichiers existants"
   ]
  },
  {
   "cell_type": "markdown",
   "id": "4fae0e3f-4772-4836-af6a-54383ec338db",
   "metadata": {},
   "source": [
    "## Initialisation of the list if not existing, or compare existing and missing files"
   ]
  },
  {
   "cell_type": "code",
   "execution_count": null,
   "id": "1dcff07c-43bb-4a55-8c2f-f927b35072a8",
   "metadata": {},
   "outputs": [],
   "source": [
    "colonnes = ['category','file','metadata','count','timestamp']\n",
    "\n",
    "dico = {}\n",
    "dico = {i : '' for i in colonnes} # initialise le dictionnaire\n",
    "\n",
    "if action == 1:\n",
    "    tableau = DataFrame(columns=colonnes)\n",
    "    tableau.to_csv(file_lvl1,index=False)\n",
    "\n",
    "elif action ==2:\n",
    "    listDone = []\n",
    "    \n",
    "    reader = csv.reader(open(file_lvl1, encoding='UTF-8'))\n",
    "    for row in reader:\n",
    "        if row[1] not in listDone and  row[1] != 'file':\n",
    "            listDone.append(row[1])\n",
    "        if g.DEBUG_OL >= 2:\n",
    "            print(listDone)\n",
    "\n",
    "    dirlist=diff(dirlist,listDone)\n",
    "    if g.DEBUG_OL >= 2:\n",
    "        print(len(dirlist),'fichiers à traiter:',dirlist)\n",
    "    \n",
    "else:\n",
    "    exit()"
   ]
  },
  {
   "cell_type": "markdown",
   "id": "a24344c2-2547-47a7-b88d-fec5b66766b3",
   "metadata": {},
   "source": [
    "## Main process to treat tika ocr in files"
   ]
  },
  {
   "cell_type": "code",
   "execution_count": null,
   "id": "cea1221a-44f3-4e87-9437-8768b14335be",
   "metadata": {
    "tags": []
   },
   "outputs": [],
   "source": [
    "def traiteocr(dirlist):\n",
    "   \n",
    "    liste =[]\n",
    "    str_match=[]\n",
    "#    print(\"-----------------------\\n\",dirlist)\n",
    "    abspath = '../'+category\n",
    "#    print(abspath)\n",
    "    full_dir=os.path.abspath(abspath)\n",
    "#    print(full_dir)\n",
    "    aa=full_dir+'/'+dirlist\n",
    "    inode=os.stat(aa).st_ino\n",
    "#    print(full_dir+'/'+i,\" en cours...\")\n",
    "\n",
    "    collectedtime = datetime.datetime.now()\n",
    "    if g.DEBUG_OL >= 2:\n",
    "        print(collectedtime)\n",
    "    \n",
    "    parsed_file = parser.from_file(aa,requestOptions=({'timeout': 1000}))\n",
    "    time.sleep(1)\n",
    "    my_metadata=parsed_file['metadata']\n",
    "    my_content = parsed_file['content']\n",
    "    if g.DEBUG_OL >= 2:\n",
    "#        print('my_metadata:',my_metadata)\n",
    "        print('my_content:',my_content)\n",
    "       \n",
    "    result = re.sub('[^A-Za-z0-9°éèàçùïœæ]+', ' ', my_content)\n",
    "    result = result.replace('\\n', '').lower()    \n",
    "\n",
    "\n",
    "    if g.DEBUG_OL >= 2:\n",
    "        print('result:',result)\n",
    "    liste = result.split()\n",
    "    \n",
    "    if g.DEBUG_OL >= 2:\n",
    "        print('\\n----------------------------------\\n----->liste brute:',liste)\n",
    "\n",
    "    for h in stop_words:\n",
    "        try:\n",
    "            liste=loop_check_stop_words(liste,h)\n",
    "        except:\n",
    "            pass\n",
    "\n",
    "    if g.DEBUG_OL >= 2:\n",
    "        print('\\n----------------------------------\\n----->liste_stop_words:',liste)\n",
    " \n",
    "    counts = Counter(liste)\n",
    "    if g.DEBUG_OL >= 2:\n",
    "        print('\\n----------------------------------\\n----->counts:',counts)\n",
    "    with open(file_lvl1,'a',encoding='utf-8') as csvfile:\n",
    "        writer = csv.DictWriter(csvfile,fieldnames = colonnes,lineterminator='\\n')\n",
    "        for cle, valeur in counts.items():\n",
    "            if g.DEBUG_OL >= 2:\n",
    "                print(dirlist,cle, valeur)\n",
    "            dico['category'] = category\n",
    "            dico['file'] = dirlist\n",
    "            dico['metadata']=str(cle)\n",
    "            dico['count']=int(valeur)\n",
    "            dico['timestamp'] = collectedtime\n",
    "            writer.writerow(dico)\n",
    "        if g.DEBUG_OL >= 1:\n",
    "            print(dirlist,' traité...')\n"
   ]
  },
  {
   "cell_type": "code",
   "execution_count": null,
   "id": "34335c68-e697-4934-9b7e-1f6fabea4f99",
   "metadata": {},
   "outputs": [],
   "source": [
    "if __name__ == \"__main__\":\n",
    "    start_func_time = time.time()\n",
    "    print(\"Lancement...\\n Soyez patient...\")\n",
    "    print('Traitement de ',len(dirlist),' fichiers')\n",
    "    with Pool (g.parallel) as p:\n",
    "        p.map(traiteocr,dirlist)\n",
    "    curr_time = time.time() - start_func_time\n",
    "    returned_time=convert_to_preferred_format(curr_time)\n",
    "    print('Process finished in,',returned_time[0:2],'heure(s)',returned_time[3:5],'minute(s)',returned_time[6:8],'seconds' )"
   ]
  },
  {
   "cell_type": "code",
   "execution_count": null,
   "id": "20396f65-50ee-4fcd-81d9-e7274021ff30",
   "metadata": {},
   "outputs": [],
   "source": [
    "time.sleep(5)\n",
    "if platform == \"linux\" or platform == \"linux2\":\n",
    "    check_call(['sync'])\n",
    "    kill_linux_java_process()"
   ]
  },
  {
   "cell_type": "code",
   "execution_count": null,
   "id": "88ca37df-bae7-41fa-af98-672e6fd53f35",
   "metadata": {},
   "outputs": [],
   "source": []
  }
 ],
 "metadata": {
  "kernelspec": {
   "display_name": "Python 3 (ipykernel)",
   "language": "python",
   "name": "python3"
  },
  "language_info": {
   "codemirror_mode": {
    "name": "ipython",
    "version": 3
   },
   "file_extension": ".py",
   "mimetype": "text/x-python",
   "name": "python",
   "nbconvert_exporter": "python",
   "pygments_lexer": "ipython3",
   "version": "3.11.2"
  }
 },
 "nbformat": 4,
 "nbformat_minor": 5
}
