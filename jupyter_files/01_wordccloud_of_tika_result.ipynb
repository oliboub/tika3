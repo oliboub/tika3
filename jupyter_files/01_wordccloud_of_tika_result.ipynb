{
 "cells": [
  {
   "cell_type": "code",
   "execution_count": null,
   "id": "d53d9235-4fa6-4982-933a-31ef037443fd",
   "metadata": {
    "tags": []
   },
   "outputs": [],
   "source": [
    "import os\n",
    "import sys\n",
    "from multiprocessing import Pool\n",
    "import datetime\n",
    "import pandas as pd\n",
    "from pandas import DataFrame\n",
    "import re\n",
    "import time\n",
    "import psutil\n",
    "import os  \n",
    "from subprocess import check_call\n",
    "import signal\n",
    "from sys import platform\n",
    "from collections import Counter\n",
    "import csv\n",
    "\n",
    "#print(platform)\n",
    "\n",
    "start_time = time.time()"
   ]
  },
  {
   "cell_type": "code",
   "execution_count": null,
   "id": "ffa2f1da-1d25-4ecd-8c75-7ef5aa2a6380",
   "metadata": {
    "tags": []
   },
   "outputs": [],
   "source": [
    "import global_variables as g\n",
    "g.init()\n",
    "\n",
    "category=g.category"
   ]
  },
  {
   "cell_type": "markdown",
   "id": "6071eaa0-cb2a-4343-999f-c7c07939558a",
   "metadata": {},
   "source": [
    "# Init category and files"
   ]
  },
  {
   "cell_type": "code",
   "execution_count": null,
   "id": "b99d2951-53d3-4654-a6c5-a826cc2a2d05",
   "metadata": {},
   "outputs": [],
   "source": [
    "##################\n",
    "listDone = []                                                      # variable to retrieve all files already treated in metadata\n",
    "output_directory=category+'_results'                               # directory of metadata file creation\n",
    "file_lvl1=output_directory+'/'+category+'__metadata.csv'           # file name of metadata file\n",
    "file_wordcloud = output_directory+'/'+category+'__wordcloud1.png'  # file name of first wordcloud image\n",
    "\n",
    "colonnes = ['category','file','metadata','count','timestamp']      # columns to be created in metadata file\n",
    "\n",
    "dico = {}                                                          # temporary dictionary to create and write each line of metadata file\n",
    "dico = {i : '' for i in colonnes}                                  # dictionnary initialization\n",
    "##################"
   ]
  },
  {
   "cell_type": "markdown",
   "id": "91ebf056-e20d-4d90-bb9b-d84e28af443d",
   "metadata": {},
   "source": [
    "## Prepare list of remaining files"
   ]
  },
  {
   "cell_type": "code",
   "execution_count": null,
   "id": "b55aaab6-903a-4b21-bd1e-361e83c5fcc3",
   "metadata": {},
   "outputs": [],
   "source": [
    "import re\n",
    "listDone = []\n",
    "reader = ''\n",
    "if g.DEBUG_OL >= 2:\n",
    "    print('output_directory',output_directory,'\\tfile_lvl1:',file_lvl1)\n",
    "    \n",
    "if not os.path.isdir(output_directory):\n",
    "    if g.DEBUG_OL >= 2:\n",
    "        print(\"directory does not exists\")\n",
    "    sys.exit()\n",
    "\n",
    "if os.path.isfile(file_lvl1):\n",
    "    if g.DEBUG_OL >= 2:\n",
    "        print('ok')\n",
    "    reader = csv.reader(open(file_lvl1, encoding='UTF-8'))\n",
    "    for row in reader:\n",
    "        if not re.match(r'[0-9]',row[2]):\n",
    "#            print(row[2])\n",
    "            listDone.append(row[2])\n",
    "#    listDone.sort()\n",
    "    if g.DEBUG_OL >= 2:\n",
    "        print('\\nlen(listDone):',len(listDone) ,'\\tlistDone',listDone[10:50])\n",
    "\n",
    "else:\n",
    "    if g.DEBUG_OL >= 2:\n",
    "        print(\"File does not exist\")\n",
    "    sys.exit()\n"
   ]
  },
  {
   "cell_type": "code",
   "execution_count": null,
   "id": "3b1b2216-44c4-43b2-ab9c-eb8d42a45ef2",
   "metadata": {},
   "outputs": [],
   "source": [
    "listWords = '\\n'.join(map(str, listDone))\n",
    "type(listWords)\n",
    "if g.DEBUG_OL >= 2:\n",
    "    print(len(listWords))"
   ]
  },
  {
   "cell_type": "code",
   "execution_count": null,
   "id": "84434386-b598-4deb-bca4-1f57ed47baf9",
   "metadata": {},
   "outputs": [],
   "source": [
    "from wordcloud import WordCloud, ImageColorGenerator\n",
    "import matplotlib.pyplot as plt\n",
    "\n",
    "width =1600\n",
    "height=900\n",
    "\n",
    "MY_DPI = 96 # (site: https://fr.infobyip.com/detectmonitordpi.php)\n",
    "wc = WordCloud(\n",
    "    width =width,\n",
    "    height=height,\n",
    "    margin=10,\n",
    "#    max_font_size=20,\n",
    "    max_words=100,\n",
    "    collocations=False,\n",
    "    repeat=False,\n",
    "\n",
    ").generate(listWords)"
   ]
  },
  {
   "cell_type": "code",
   "execution_count": null,
   "id": "d49542ef-8f08-4651-addc-e010e6ec8f3c",
   "metadata": {},
   "outputs": [],
   "source": [
    "plt.figure(figsize=(width/MY_DPI,height/MY_DPI))\n",
    "plt.imshow(wc,interpolation='bilinear')\n",
    "plt.axis('off') # enleve les axes\n",
    "plt.margins(x=0, y=0)\n",
    "plt.savefig(file_wordcloud, dpi=MY_DPI)"
   ]
  },
  {
   "cell_type": "code",
   "execution_count": null,
   "id": "838c6de0-d30c-4ae5-b223-a38e4e91fda7",
   "metadata": {},
   "outputs": [],
   "source": []
  }
 ],
 "metadata": {
  "kernelspec": {
   "display_name": "Python 3 (ipykernel)",
   "language": "python",
   "name": "python3"
  },
  "language_info": {
   "codemirror_mode": {
    "name": "ipython",
    "version": 3
   },
   "file_extension": ".py",
   "mimetype": "text/x-python",
   "name": "python",
   "nbconvert_exporter": "python",
   "pygments_lexer": "ipython3",
   "version": "3.11.2"
  }
 },
 "nbformat": 4,
 "nbformat_minor": 5
}
